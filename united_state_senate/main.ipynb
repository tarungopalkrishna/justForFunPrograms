{
 "cells": [
  {
   "cell_type": "code",
   "execution_count": 2,
   "metadata": {},
   "outputs": [],
   "source": [
    "from bs4 import BeautifulSoup as bs\n",
    "import pandas as pd\n",
    "import requests"
   ]
  },
  {
   "cell_type": "code",
   "execution_count": 11,
   "metadata": {},
   "outputs": [],
   "source": [
    "RESET_DATA = False"
   ]
  },
  {
   "cell_type": "code",
   "execution_count": 4,
   "metadata": {},
   "outputs": [],
   "source": [
    "url = \"https://www.senate.gov/legislative/LIS/roll_call_votes/vote1171/vote_117_1_00353.htm#state\""
   ]
  },
  {
   "cell_type": "code",
   "execution_count": 5,
   "metadata": {},
   "outputs": [],
   "source": [
    "webpage = requests.get(url)"
   ]
  },
  {
   "cell_type": "code",
   "execution_count": 6,
   "metadata": {},
   "outputs": [],
   "source": [
    "# Build a soup\n",
    "soup = bs(webpage.content)"
   ]
  },
  {
   "cell_type": "code",
   "execution_count": 7,
   "metadata": {},
   "outputs": [
    {
     "data": {
      "text/plain": [
       "'Baldwin (D-WI), Nay\\nBarrasso (R-WY), Yea\\nBennet (D-CO), Nay\\nBlackburn (R-TN), Yea\\nBlumenthal (D-CT), Nay\\nBlunt (R-MO), Yea\\nBooker (D-NJ), Nay\\nBoozman (R-AR), Yea\\nBraun (R-IN), Yea\\nBrown (D-OH), Nay\\nBurr (R-NC), Yea\\nCantwell (D-WA), Nay\\nCapito (R-WV), Yea\\nCardin (D-MD), Nay\\nCarper (D-DE), Nay\\nCasey (D-PA), Nay\\nCassidy (R-LA), Yea\\nCollins (R-ME), Yea\\nCoons (D-DE), Nay\\nCornyn (R-TX), Yea\\nCortez Masto (D-NV), Nay\\nCotton (R-AR), Yea\\nCramer (R-ND), Yea\\nCrapo (R-ID), Yea\\nCruz (R-TX), Yea\\nDaines (R-MT), Yea\\nDuckworth (D-IL), Nay\\nDurbin (D-IL), Nay\\nErnst (R-IA), Yea\\nFeinstein (D-CA), Nay\\nFischer (R-NE), Yea\\nGillibrand (D-NY), Nay\\nGraham (R-SC), Yea\\nGrassley (R-IA), Yea\\nHagerty (R-TN), Yea\\nHassan (D-NH), Nay\\nHawley (R-MO), Yea\\nHeinrich (D-NM), Nay\\nHickenlooper (D-CO), Nay\\nHirono (D-HI), Nay\\nHoeven (R-ND), Yea\\nHyde-Smith (R-MS), Yea\\nInhofe (R-OK), Yea\\nJohnson (R-WI), Yea\\nKaine (D-VA), Nay\\nKelly (D-AZ), Nay\\nKennedy (R-LA), Yea\\nKing (I-ME), Nay\\nKlobuchar (D-MN), Nay\\nLankford (R-OK), Yea\\nLeahy (D-VT), Nay\\nLee (R-UT), Yea\\nLujan (D-NM), Nay\\nLummis (R-WY), Yea\\nManchin (D-WV), Nay\\nMarkey (D-MA), Nay\\nMarshall (R-KS), Yea\\nMcConnell (R-KY), Yea\\nMenendez (D-NJ), Nay\\nMerkley (D-OR), Nay\\nMoran (R-KS), Yea\\nMurkowski (R-AK), Yea\\nMurphy (D-CT), Nay\\nMurray (D-WA), Nay\\nOssoff (D-GA), Nay\\nPadilla (D-CA), Nay\\nPaul (R-KY), Yea\\nPeters (D-MI), Nay\\nPortman (R-OH), Yea\\nReed (D-RI), Nay\\nRisch (R-ID), Yea\\nRomney (R-UT), Yea\\nRosen (D-NV), Nay\\nRounds (R-SD), Not Voting\\nRubio (R-FL), Yea\\nSanders (I-VT), Nay\\nSasse (R-NE), Yea\\nSchatz (D-HI), Nay\\nSchumer (D-NY), Nay\\nScott (R-FL), Yea\\nScott (R-SC), Yea\\nShaheen (D-NH), Nay\\nShelby (R-AL), Yea\\nSinema (D-AZ), Nay\\nSmith (D-MN), Nay\\nStabenow (D-MI), Nay\\nSullivan (R-AK), Yea\\nTester (D-MT), Nay\\nThune (R-SD), Yea\\nTillis (R-NC), Yea\\nToomey (R-PA), Yea\\nTuberville (R-AL), Yea\\nVan Hollen (D-MD), Nay\\nWarner (D-VA), Nay\\nWarnock (D-GA), Nay\\nWarren (D-MA), Nay\\nWhitehouse (D-RI), Nay\\nWicker (R-MS), Yea\\nWyden (D-OR), Nay\\nYoung (R-IN), Yea\\n\\n'"
      ]
     },
     "execution_count": 7,
     "metadata": {},
     "output_type": "execute_result"
    }
   ],
   "source": [
    "senatorByAlphabeticalOrder = soup.find(class_=\"newspaperDisplay_3column\")\n",
    "senators = senatorByAlphabeticalOrder.span\n",
    "senators.text"
   ]
  },
  {
   "cell_type": "code",
   "execution_count": 8,
   "metadata": {},
   "outputs": [
    {
     "name": "stdout",
     "output_type": "stream",
     "text": [
      "100\n",
      "['Baldwin (D-WI), Nay', 'Barrasso (R-WY), Yea', 'Bennet (D-CO), Nay', 'Blackburn (R-TN), Yea', 'Blumenthal (D-CT), Nay', 'Blunt (R-MO), Yea', 'Booker (D-NJ), Nay', 'Boozman (R-AR), Yea', 'Braun (R-IN), Yea', 'Brown (D-OH), Nay', 'Burr (R-NC), Yea', 'Cantwell (D-WA), Nay', 'Capito (R-WV), Yea', 'Cardin (D-MD), Nay', 'Carper (D-DE), Nay', 'Casey (D-PA), Nay', 'Cassidy (R-LA), Yea', 'Collins (R-ME), Yea', 'Coons (D-DE), Nay', 'Cornyn (R-TX), Yea', 'Cortez Masto (D-NV), Nay', 'Cotton (R-AR), Yea', 'Cramer (R-ND), Yea', 'Crapo (R-ID), Yea', 'Cruz (R-TX), Yea', 'Daines (R-MT), Yea', 'Duckworth (D-IL), Nay', 'Durbin (D-IL), Nay', 'Ernst (R-IA), Yea', 'Feinstein (D-CA), Nay', 'Fischer (R-NE), Yea', 'Gillibrand (D-NY), Nay', 'Graham (R-SC), Yea', 'Grassley (R-IA), Yea', 'Hagerty (R-TN), Yea', 'Hassan (D-NH), Nay', 'Hawley (R-MO), Yea', 'Heinrich (D-NM), Nay', 'Hickenlooper (D-CO), Nay', 'Hirono (D-HI), Nay', 'Hoeven (R-ND), Yea', 'Hyde-Smith (R-MS), Yea', 'Inhofe (R-OK), Yea', 'Johnson (R-WI), Yea', 'Kaine (D-VA), Nay', 'Kelly (D-AZ), Nay', 'Kennedy (R-LA), Yea', 'King (I-ME), Nay', 'Klobuchar (D-MN), Nay', 'Lankford (R-OK), Yea', 'Leahy (D-VT), Nay', 'Lee (R-UT), Yea', 'Lujan (D-NM), Nay', 'Lummis (R-WY), Yea', 'Manchin (D-WV), Nay', 'Markey (D-MA), Nay', 'Marshall (R-KS), Yea', 'McConnell (R-KY), Yea', 'Menendez (D-NJ), Nay', 'Merkley (D-OR), Nay', 'Moran (R-KS), Yea', 'Murkowski (R-AK), Yea', 'Murphy (D-CT), Nay', 'Murray (D-WA), Nay', 'Ossoff (D-GA), Nay', 'Padilla (D-CA), Nay', 'Paul (R-KY), Yea', 'Peters (D-MI), Nay', 'Portman (R-OH), Yea', 'Reed (D-RI), Nay', 'Risch (R-ID), Yea', 'Romney (R-UT), Yea', 'Rosen (D-NV), Nay', 'Rounds (R-SD), Not Voting', 'Rubio (R-FL), Yea', 'Sanders (I-VT), Nay', 'Sasse (R-NE), Yea', 'Schatz (D-HI), Nay', 'Schumer (D-NY), Nay', 'Scott (R-FL), Yea', 'Scott (R-SC), Yea', 'Shaheen (D-NH), Nay', 'Shelby (R-AL), Yea', 'Sinema (D-AZ), Nay', 'Smith (D-MN), Nay', 'Stabenow (D-MI), Nay', 'Sullivan (R-AK), Yea', 'Tester (D-MT), Nay', 'Thune (R-SD), Yea', 'Tillis (R-NC), Yea', 'Toomey (R-PA), Yea', 'Tuberville (R-AL), Yea', 'Van Hollen (D-MD), Nay', 'Warner (D-VA), Nay', 'Warnock (D-GA), Nay', 'Warren (D-MA), Nay', 'Whitehouse (D-RI), Nay', 'Wicker (R-MS), Yea', 'Wyden (D-OR), Nay', 'Young (R-IN), Yea']\n"
     ]
    }
   ],
   "source": [
    "senators_list = senators.text.split(\"\\n\")\n",
    "senators_list.remove(\"\")\n",
    "senators_list.remove(\"\")\n",
    "print(len(senators_list))\n",
    "print(senators_list)"
   ]
  },
  {
   "cell_type": "code",
   "execution_count": 9,
   "metadata": {},
   "outputs": [],
   "source": [
    "df = pd.DataFrame(map(lambda x: x.split(\",\"), senators_list),columns=[\"senator_data\", \"vote\"])\n",
    "df[\"senator_data\"] = df.senator_data.apply(lambda x: x.strip())\n",
    "df[\"vote\"] = df.vote.apply(lambda x: x.strip())"
   ]
  },
  {
   "cell_type": "code",
   "execution_count": 100,
   "metadata": {},
   "outputs": [],
   "source": [
    "if RESET_DATA == True:\n",
    "    csv_results = {}\n",
    "def store_answers(q_no=None, answer=None, show=False, flush=False):\n",
    "    csv_results.update({ 'Q'+str(q_no): answer})\n",
    "    if(show):\n",
    "        print(csv_results)\n",
    "    if(flush):\n",
    "        with open(\"result.csv\",\"w\") as fl:\n",
    "            # Check the header is not written to the file\n",
    "            pd.DataFrame(csv_results).to_csv(fl)"
   ]
  },
  {
   "cell_type": "code",
   "execution_count": 13,
   "metadata": {},
   "outputs": [],
   "source": [
    "df[\"senator_name\"] = df['senator_data'].apply(lambda x: x.split(\"(\")[0].strip())\n",
    "df[\"senator_party_location\"] = df['senator_data'].apply(lambda x: x.split(\"(\")[1].split(\")\")[0].strip())\n",
    "df[\"senator_party_letter\"] = df['senator_party_location'].apply(lambda x: x.split(\"-\")[0].strip())\n",
    "df[\"senator_party\"] = df['senator_party_letter'].apply(lambda x: \"republican\" if x == \"R\" else \"democrat\" if x == \"D\" else \"independents\" if x == \"I\" else None)\n",
    "df[\"senator_state\"] = df[\"senator_party_location\"].apply(lambda x: x.split(\"-\")[1].strip())"
   ]
  },
  {
   "cell_type": "code",
   "execution_count": 14,
   "metadata": {},
   "outputs": [
    {
     "data": {
      "text/plain": [
       "array(['Nay', 'Yea', 'Not Voting'], dtype=object)"
      ]
     },
     "execution_count": 14,
     "metadata": {},
     "output_type": "execute_result"
    }
   ],
   "source": [
    "# df[df.isna().any(axis=1)]\n",
    "df.vote.unique()"
   ]
  },
  {
   "cell_type": "code",
   "execution_count": 15,
   "metadata": {},
   "outputs": [],
   "source": [
    "# Q1\n",
    "democrats = df.loc[df[\"senator_party_letter\"] == \"D\"] # Get the number of democrats\n",
    "democrats_yea = democrats.loc[democrats[\"vote\"] == \"Yea\"]\n",
    "democrats_nay = democrats.loc[democrats[\"vote\"] == \"Nay\"]\n",
    "democrats_not_voting = democrats.loc[democrats[\"vote\"] == \"Not Voting\"]\n",
    "no_democrats_nay = len(democrats_nay)\n",
    "no_democrats_yea = len(democrats_yea)\n",
    "no_democrats_not_voting = len(democrats_not_voting)\n",
    "store_answers(1, no_democrats_not_voting)"
   ]
  },
  {
   "cell_type": "code",
   "execution_count": 16,
   "metadata": {},
   "outputs": [],
   "source": [
    "# Q2\n",
    "republicans = df.loc[df[\"senator_party_letter\"] == \"R\"] # Get the number of republicans\n",
    "republicans_yea = republicans.loc[republicans[\"vote\"] == \"Yea\"]\n",
    "republicans_nay = republicans.loc[republicans[\"vote\"] == \"Nay\"]\n",
    "republicans_not_voting = republicans.loc[republicans[\"vote\"] == \"Not Voting\"]\n",
    "no_republicans_nay = len(republicans_nay)\n",
    "no_republicans_yea = len(republicans_yea)\n",
    "no_republicans_not_voting = len(republicans_not_voting)\n",
    "store_answers(2, no_republicans_yea)"
   ]
  },
  {
   "cell_type": "code",
   "execution_count": 17,
   "metadata": {},
   "outputs": [],
   "source": [
    "# Q3\n",
    "senator_name_B = df[df['senator_name'].apply(lambda x: x.startswith(\"B\"))] # I'm assuming no ones name starts with 'b'\n",
    "senator_name_B_yea = senator_name_B[senator_name_B[\"vote\"] == \"Yea\"]\n",
    "store_answers(3, len(senator_name_B_yea))"
   ]
  },
  {
   "cell_type": "code",
   "execution_count": 50,
   "metadata": {},
   "outputs": [],
   "source": [
    "# Q4\n",
    "senator_yea = df[df['vote'] == \"Yea\"]\n",
    "senator_grouped_states_yea = senator_yea.groupby(\"senator_state\")\n",
    "# senator_grouped_states_yea.head()\n",
    "state_voted_yea = senator_grouped_states_yea.vote.count()[senator_grouped_states_yea.vote.count() == 2] # Hacky fix, need to check that the max that can be is 2\n",
    "store_answers(4, len(state_voted_yea))"
   ]
  },
  {
   "cell_type": "code",
   "execution_count": 57,
   "metadata": {},
   "outputs": [],
   "source": [
    "# Q5\n",
    "senator_not_voting = df[df['vote'] == \"Not Voting\"]\n",
    "senator_grouped_states_not_voting = senator_not_voting.groupby(\"senator_state\")\n",
    "state_not_voting_at_least_1 = senator_grouped_states_not_voting.vote.count()[senator_grouped_states_not_voting.vote.count() >= 1]\n",
    "store_answers(5, len(state_not_voting_at_least_1))"
   ]
  },
  {
   "cell_type": "code",
   "execution_count": 91,
   "metadata": {},
   "outputs": [],
   "source": [
    "# Q6\n",
    "senator_republican = df[df['senator_party'] == \"republican\"]\n",
    "senator_grouped_states_republican = senator_republican.groupby(\"senator_state\")\n",
    "# Hacky fix, need to check that the max that can be is 2\n",
    "senator_state_both_republican = senator_grouped_states_republican.senator_party.count()[senator_grouped_states_republican.senator_party.count() == 2]\n",
    "store_answers(6, len(senator_state_both_republican))"
   ]
  },
  {
   "cell_type": "code",
   "execution_count": 73,
   "metadata": {},
   "outputs": [],
   "source": [
    "# Q7\n",
    "senator_replubican_democrat = df[(df['senator_party'] == \"republican\") | (df['senator_party'] == \"democrat\")]\n",
    "# senator_replubican_democrat\n",
    "senator_grouped_states_rep_dem = senator_replubican_democrat.groupby(\"senator_state\")\n",
    "# Hacky fix, need to check that the max that can be is 2\n",
    "senator_state_rep_dem = senator_grouped_states_rep_dem.senator_party.count()[senator_grouped_states_rep_dem.senator_party.count() == 2]\n",
    "# Also can be total_no_of_states - df[df['senator_party'] == \"independents\"], as there are only these 3 parties\n",
    "store_answers(7, len(senator_state_rep_dem))"
   ]
  },
  {
   "cell_type": "code",
   "execution_count": 78,
   "metadata": {},
   "outputs": [],
   "source": [
    "# Q8\n",
    "senator_name_W = df[df['senator_name'].apply(lambda x: x.startswith(\"W\"))]\n",
    "store_answers(8,len(senator_name_W))"
   ]
  },
  {
   "cell_type": "code",
   "execution_count": 82,
   "metadata": {},
   "outputs": [
    {
     "name": "stdout",
     "output_type": "stream",
     "text": [
      "48 50\n"
     ]
    }
   ],
   "source": [
    "# Q9\n",
    "votes_democrats = df[(df['senator_party'] == \"democrat\")] \n",
    "votes_republicans = df[(df['senator_party'] == \"republican\")]\n",
    "votes_ratio = len(votes_democrats)/len(votes_republicans)\n",
    "print(len(votes_democrats),len(votes_republicans))\n",
    "store_answers(9, votes_ratio)"
   ]
  },
  {
   "cell_type": "code",
   "execution_count": 83,
   "metadata": {},
   "outputs": [],
   "source": [
    "# Q10\n"
   ]
  },
  {
   "cell_type": "code",
   "execution_count": 86,
   "metadata": {},
   "outputs": [],
   "source": [
    "# Q11\n",
    "store_answers(11, no_democrats_yea) # I have already caculated this in Q1"
   ]
  },
  {
   "cell_type": "code",
   "execution_count": 89,
   "metadata": {},
   "outputs": [],
   "source": [
    "# Q12\n",
    "senator_nay = df[df['vote'] == \"Nay\"]\n",
    "senator_grouped_states_nay = senator_nay.groupby(\"senator_state\")\n",
    "# senator_grouped_states_nay.head()\n",
    "state_voted_nay = senator_grouped_states_nay.vote.count()[senator_grouped_states_nay.vote.count() == 2] # Hacky fix, need to check that the max that can be is 2\n",
    "store_answers(12, len(state_voted_nay))"
   ]
  },
  {
   "cell_type": "code",
   "execution_count": 92,
   "metadata": {},
   "outputs": [],
   "source": [
    "# Q13\n",
    "senator_democrat = df[df['senator_party'] == \"democrat\"]\n",
    "senator_grouped_states_democrat = senator_democrat.groupby(\"senator_state\")\n",
    "# Hacky fix, need to check that the max that can be is 2\n",
    "senator_state_both_democrat = senator_grouped_states_democrat.senator_party.count()[senator_grouped_states_democrat.senator_party.count() == 2]\n",
    "store_answers(13, len(senator_state_both_democrat))"
   ]
  },
  {
   "cell_type": "code",
   "execution_count": 98,
   "metadata": {},
   "outputs": [],
   "source": [
    "# Q14\n",
    "senator_not_voting = df[df['vote'] == \"Not Voting\"]\n",
    "store_answers(14, len(senator_not_voting))"
   ]
  },
  {
   "cell_type": "code",
   "execution_count": 101,
   "metadata": {},
   "outputs": [
    {
     "name": "stdout",
     "output_type": "stream",
     "text": [
      "{'Q1': 0, 'Q2': 49, 'Q3': 6, 'Q4': 21, 'Q5': 1, 'Q6': 22, 'Q7': 48, 'Q8': 6, 'Q9': 0.96, 'Q11': 0, 'Q12': 22, 'Q13': 21, 'Q14': 1, 'Q15': 1}\n"
     ]
    }
   ],
   "source": [
    "# Q15\n",
    "# Isnt this the same as Q5?\n",
    "store_answers(15, len(state_not_voting_at_least_1), True)"
   ]
  },
  {
   "cell_type": "code",
   "execution_count": null,
   "metadata": {},
   "outputs": [],
   "source": [
    "# Q16\n",
    "# Isnt that a relative answer?"
   ]
  }
 ],
 "metadata": {
  "interpreter": {
   "hash": "4e79ad65a54fa9e790bec02b4097f4647ef9a25cc7119e6ce84c0e42f5f756b5"
  },
  "kernelspec": {
   "display_name": "Python 3.8.12 ('tds')",
   "language": "python",
   "name": "python3"
  },
  "language_info": {
   "codemirror_mode": {
    "name": "ipython",
    "version": 3
   },
   "file_extension": ".py",
   "mimetype": "text/x-python",
   "name": "python",
   "nbconvert_exporter": "python",
   "pygments_lexer": "ipython3",
   "version": "3.8.12"
  },
  "orig_nbformat": 4
 },
 "nbformat": 4,
 "nbformat_minor": 2
}
